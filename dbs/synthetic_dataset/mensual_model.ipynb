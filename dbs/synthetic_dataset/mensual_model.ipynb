{
 "cells": [
  {
   "cell_type": "code",
   "execution_count": 7,
   "id": "23444463-856b-4722-8b86-99e457474154",
   "metadata": {},
   "outputs": [],
   "source": [
    "import pandas as pd\n",
    "\n",
    "# Rutas de los archivos\n",
    "sales_file_path = './sales_test.csv'\n",
    "products_file_path = './products.csv'\n",
    "stock_file_path = './initial_stock.csv'\n",
    "\n",
    "# Cargar los datasets\n",
    "sales = pd.read_csv(sales_file_path)\n",
    "products = pd.read_csv(products_file_path)\n",
    "stock = pd.read_csv(stock_file_path)"
   ]
  },
  {
   "cell_type": "markdown",
   "id": "cf7da5c6",
   "metadata": {},
   "source": [
    "## Classic Methods MENSUAL RESTOCK\n"
   ]
  },
  {
   "cell_type": "code",
   "execution_count": 47,
   "id": "9589e67b",
   "metadata": {},
   "outputs": [],
   "source": [
    "import pandas as pd\n",
    "from sklearn.ensemble import RandomForestRegressor, GradientBoostingRegressor\n",
    "from sklearn.linear_model import LinearRegression\n",
    "from sklearn.preprocessing import PolynomialFeatures\n",
    "from sklearn.neighbors import KNeighborsRegressor\n",
    "from sklearn.svm import SVR\n",
    "from sklearn.metrics import mean_squared_error, r2_score\n",
    "from tensorflow.keras.models import Sequential\n",
    "from tensorflow.keras.layers import Dense, Dropout\n",
    "from tensorflow.keras.optimizers import Adam\n",
    "import matplotlib.pyplot as plt\n",
    "import numpy as np\n",
    "from sklearn.model_selection import train_test_split\n",
    "from sklearn.preprocessing import StandardScaler"
   ]
  },
  {
   "cell_type": "code",
   "execution_count": 86,
   "id": "74da1cd4",
   "metadata": {},
   "outputs": [
    {
     "name": "stdout",
     "output_type": "stream",
     "text": [
      "RangeIndex(start=0, stop=1496, step=1)\n"
     ]
    }
   ],
   "source": [
    "# Renombrar la columna 'id' a 'product_id' en products\n",
    "products.rename(columns={'id': 'product_id'}, inplace=True)\n",
    "\n",
    "# Combinar los datos\n",
    "data = pd.merge(sales, products, on='product_id', how='left')\n",
    "data = pd.merge(data, stock, on='product_id', how='left')\n",
    "\n",
    "# Convertir la columna 'date' a datetime si no lo es\n",
    "data['date'] = pd.to_datetime(data['date'])\n",
    "\n",
    "# Crear características adicionales\n",
    "data['Days to Expire'] = (pd.to_datetime(data['batch_expiry_date']) - data['date']).dt.days\n",
    "data['Total Revenue'] = data['total_price']\n",
    "data['Price_USD'] = data['Price_USD']\n",
    "data['Remaining stock'] = data['remaining_stock']\n",
    "\n",
    "data[\"month\"] = data[\"date\"].dt.month\n",
    "data[\"year\"] = data[\"date\"].dt.year\n",
    "\n",
    "\n",
    "monthly_data = data.groupby([\"month\", \"year\", \"product_id\"]).agg(\n",
    "    total_revenue=('Total Revenue', 'sum'),\n",
    "    average_price=('Price_USD', 'mean'),\n",
    "    stock=('remaining_stock', 'last'),\n",
    "    average_days_to_expire=('Days to Expire', 'mean'),\n",
    "    quantity = ('quantity_x', 'sum')\n",
    ").reset_index()\n",
    "\n",
    "\n",
    "# Seleccionar las características y el target para el modelo mensual\n",
    "features_monthly = monthly_data[[\"month\", \"year\",'product_id','total_revenue', 'average_price', 'stock',\"average_days_to_expire\"]]\n",
    "target_monthly = monthly_data['quantity']\n",
    "\n",
    "# Dividir los datos mensuales en entrenamiento y prueba\n",
    "X_train, X_test, y_train, y_test = train_test_split(\n",
    "    features_monthly, target_monthly, test_size=0.2, random_state=42\n",
    ")\n",
    "# Escalar las características\n",
    "scaler_monthly = StandardScaler()\n",
    "X_train_scaled = scaler_monthly.fit_transform(X_train)\n",
    "X_test_scaled = scaler_monthly.transform(X_test)\n",
    "\n",
    "print(features_monthly.index)\n",
    "\n",
    "X_train_scaled = np.array(X_train_scaled)\n",
    "X_test_scaled = np.array(X_test_scaled)\n",
    "y_train = np.array(y_train).flatten()  \n",
    "y_test = np.array(y_test).flatten()"
   ]
  },
  {
   "cell_type": "code",
   "execution_count": 79,
   "id": "ade4b288",
   "metadata": {},
   "outputs": [
    {
     "name": "stderr",
     "output_type": "stream",
     "text": [
      "/home/rebooter/anaconda3/lib/python3.12/site-packages/keras/src/layers/core/dense.py:87: UserWarning: Do not pass an `input_shape`/`input_dim` argument to a layer. When using Sequential models, prefer using an `Input(shape)` object as the first layer in the model instead.\n",
      "  super().__init__(activity_regularizer=activity_regularizer, **kwargs)\n"
     ]
    },
    {
     "name": "stdout",
     "output_type": "stream",
     "text": [
      "\u001b[1m10/10\u001b[0m \u001b[32m━━━━━━━━━━━━━━━━━━━━\u001b[0m\u001b[37m\u001b[0m \u001b[1m0s\u001b[0m 2ms/step  \n",
      "Model Performance Summary:\n",
      "Random Forest: MSE=4.976864666666666, R2=0.988731723269077\n",
      "Linear Regression: MSE=45.42552862722214, R2=0.8971506236349333\n",
      "Polynomial Regression (Best Degree) (Degree 3): MSE=0.32170226619702946, R2=0.99927162372231\n",
      "Gradient Boosting: MSE=2.6408528459520304, R2=0.9940207615302178\n",
      "KNN Regressor: MSE=27.035333333333334, R2=0.9387884465589086\n",
      "Support Vector Regressor: MSE=51.97160474457883, R2=0.882329445617757\n",
      "Neural Network: MSE=9.502740578060736, R2=0.9784845444456344\n"
     ]
    }
   ],
   "source": [
    "# Evaluar múltiples modelos\n",
    "results = {}\n",
    "\n",
    "# Random Forest Regressor\n",
    "rf_model = RandomForestRegressor(random_state=42)\n",
    "rf_model.fit(X_train_scaled, y_train)\n",
    "y_pred_rf = rf_model.predict(X_test_scaled)\n",
    "results['Random Forest'] = {\n",
    "    'MSE': mean_squared_error(y_test, y_pred_rf),\n",
    "    'R2': r2_score(y_test, y_pred_rf)\n",
    "}\n",
    "\n",
    "# Linear Regression\n",
    "linear_model = LinearRegression()\n",
    "linear_model.fit(X_train_scaled, y_train)\n",
    "y_pred_linear = linear_model.predict(X_test_scaled)\n",
    "results['Linear Regression'] = {\n",
    "    'MSE': mean_squared_error(y_test, y_pred_linear),\n",
    "    'R2': r2_score(y_test, y_pred_linear)\n",
    "}\n",
    "\n",
    "# Polynomial Regression\n",
    "degrees = range(1, 6)  # Testing degrees from 1 to 5\n",
    "poly_results = {}\n",
    "\n",
    "for degree in degrees:\n",
    "    poly = PolynomialFeatures(degree=degree)\n",
    "    X_train_poly = poly.fit_transform(X_train_scaled)\n",
    "    X_test_poly = poly.transform(X_test_scaled)\n",
    "\n",
    "    poly_model = LinearRegression()\n",
    "    poly_model.fit(X_train_poly, y_train)\n",
    "    y_pred_poly = poly_model.predict(X_test_poly)\n",
    "\n",
    "    poly_results[degree] = {\n",
    "        'MSE': mean_squared_error(y_test, y_pred_poly),\n",
    "        'R2': r2_score(y_test, y_pred_poly)\n",
    "    }\n",
    "\n",
    "# Find the best degree and add to results\n",
    "best_degree = max(poly_results, key=lambda d: poly_results[d]['R2'])\n",
    "results['Polynomial Regression (Best Degree)'] = {\n",
    "    'Degree': best_degree,\n",
    "    'MSE': poly_results[best_degree]['MSE'],\n",
    "    'R2': poly_results[best_degree]['R2']\n",
    "}\n",
    "\n",
    "# Gradient Boosting Regressor\n",
    "gb_model = GradientBoostingRegressor(random_state=42)\n",
    "gb_model.fit(X_train_scaled, y_train)\n",
    "y_pred_gb = gb_model.predict(X_test_scaled)\n",
    "results['Gradient Boosting'] = {\n",
    "    'MSE': mean_squared_error(y_test, y_pred_gb),\n",
    "    'R2': r2_score(y_test, y_pred_gb)\n",
    "}\n",
    "\n",
    "# K-Nearest Neighbors Regressor\n",
    "knn_model = KNeighborsRegressor()\n",
    "knn_model.fit(X_train_scaled, y_train)\n",
    "y_pred_knn = knn_model.predict(X_test_scaled)\n",
    "results['KNN Regressor'] = {\n",
    "    'MSE': mean_squared_error(y_test, y_pred_knn),\n",
    "    'R2': r2_score(y_test, y_pred_knn)\n",
    "}\n",
    "\n",
    "# Support Vector Regressor\n",
    "svr_model = SVR()\n",
    "svr_model.fit(X_train_scaled, y_train)\n",
    "y_pred_svr = svr_model.predict(X_test_scaled)\n",
    "results['Support Vector Regressor'] = {\n",
    "    'MSE': mean_squared_error(y_test, y_pred_svr),\n",
    "    'R2': r2_score(y_test, y_pred_svr)\n",
    "}\n",
    "\n",
    "# Neural Network\n",
    "nn_model = Sequential([\n",
    "    Dense(128, activation='relu', input_shape=(X_train_scaled.shape[1],)),\n",
    "    Dropout(0.3),\n",
    "    Dense(64, activation='relu'),\n",
    "    Dropout(0.3),\n",
    "    Dense(1, activation='linear')\n",
    "])\n",
    "\n",
    "nn_model.compile(optimizer=Adam(learning_rate=0.001), loss='mse', metrics=['mae'])\n",
    "nn_model.fit(X_train_scaled, y_train, validation_data=(X_test_scaled, y_test), epochs=50, batch_size=32, verbose=0)\n",
    "nn_loss, nn_mae = nn_model.evaluate(X_test_scaled, y_test, verbose=0)\n",
    "y_pred_nn = nn_model.predict(X_test_scaled).flatten()\n",
    "results['Neural Network'] = {\n",
    "    'MSE': mean_squared_error(y_test, y_pred_nn),\n",
    "    'R2': r2_score(y_test, y_pred_nn),\n",
    "    'MAE': nn_mae\n",
    "}\n",
    "\n",
    "# Output results\n",
    "print('Model Performance Summary:')\n",
    "for model, metrics in results.items():\n",
    "    if 'Degree' in metrics:\n",
    "        print(f\"{model} (Degree {metrics['Degree']}): MSE={metrics['MSE']}, R2={metrics['R2']}\")\n",
    "    else:\n",
    "        print(f\"{model}: MSE={metrics['MSE']}, R2={metrics['R2']}\")\n"
   ]
  },
  {
   "cell_type": "markdown",
   "id": "895c3a31-c4e8-4e5a-95c8-39c20dd3e90a",
   "metadata": {},
   "source": [
    "### Predicción Enero y Febrero 2025"
   ]
  },
  {
   "cell_type": "markdown",
   "id": "25a6c63a-920d-406c-bd11-aa37a5499e15",
   "metadata": {},
   "source": [
    "##### De esta manera sabemos cuanto stock pedir en febrero de 2025 e incluimos un colchón de seguridad"
   ]
  },
  {
   "cell_type": "code",
   "execution_count": 81,
   "id": "9c0cc5ab-888c-4691-930b-1c00554bb980",
   "metadata": {},
   "outputs": [
    {
     "data": {
      "text/html": [
       "<div>\n",
       "<style scoped>\n",
       "    .dataframe tbody tr th:only-of-type {\n",
       "        vertical-align: middle;\n",
       "    }\n",
       "\n",
       "    .dataframe tbody tr th {\n",
       "        vertical-align: top;\n",
       "    }\n",
       "\n",
       "    .dataframe thead th {\n",
       "        text-align: right;\n",
       "    }\n",
       "</style>\n",
       "<table border=\"1\" class=\"dataframe\">\n",
       "  <thead>\n",
       "    <tr style=\"text-align: right;\">\n",
       "      <th></th>\n",
       "      <th>month</th>\n",
       "      <th>year</th>\n",
       "      <th>product_id</th>\n",
       "      <th>total_revenue</th>\n",
       "      <th>average_price</th>\n",
       "      <th>stock</th>\n",
       "      <th>average_days_to_expire</th>\n",
       "    </tr>\n",
       "  </thead>\n",
       "  <tbody>\n",
       "    <tr>\n",
       "      <th>0</th>\n",
       "      <td>1</td>\n",
       "      <td>2020</td>\n",
       "      <td>1</td>\n",
       "      <td>8054.64</td>\n",
       "      <td>149.16</td>\n",
       "      <td>23</td>\n",
       "      <td>1064.880000</td>\n",
       "    </tr>\n",
       "    <tr>\n",
       "      <th>1</th>\n",
       "      <td>1</td>\n",
       "      <td>2020</td>\n",
       "      <td>2</td>\n",
       "      <td>3736.80</td>\n",
       "      <td>62.28</td>\n",
       "      <td>20</td>\n",
       "      <td>891.888889</td>\n",
       "    </tr>\n",
       "    <tr>\n",
       "      <th>2</th>\n",
       "      <td>1</td>\n",
       "      <td>2020</td>\n",
       "      <td>3</td>\n",
       "      <td>3099.00</td>\n",
       "      <td>51.65</td>\n",
       "      <td>24</td>\n",
       "      <td>1028.296296</td>\n",
       "    </tr>\n",
       "    <tr>\n",
       "      <th>3</th>\n",
       "      <td>1</td>\n",
       "      <td>2020</td>\n",
       "      <td>4</td>\n",
       "      <td>4417.50</td>\n",
       "      <td>71.25</td>\n",
       "      <td>37</td>\n",
       "      <td>1098.785714</td>\n",
       "    </tr>\n",
       "    <tr>\n",
       "      <th>4</th>\n",
       "      <td>1</td>\n",
       "      <td>2020</td>\n",
       "      <td>5</td>\n",
       "      <td>4701.60</td>\n",
       "      <td>78.36</td>\n",
       "      <td>33</td>\n",
       "      <td>1053.964286</td>\n",
       "    </tr>\n",
       "  </tbody>\n",
       "</table>\n",
       "</div>"
      ],
      "text/plain": [
       "   month  year  product_id  total_revenue  average_price  stock  \\\n",
       "0      1  2020           1        8054.64         149.16     23   \n",
       "1      1  2020           2        3736.80          62.28     20   \n",
       "2      1  2020           3        3099.00          51.65     24   \n",
       "3      1  2020           4        4417.50          71.25     37   \n",
       "4      1  2020           5        4701.60          78.36     33   \n",
       "\n",
       "   average_days_to_expire  \n",
       "0             1064.880000  \n",
       "1              891.888889  \n",
       "2             1028.296296  \n",
       "3             1098.785714  \n",
       "4             1053.964286  "
      ]
     },
     "execution_count": 81,
     "metadata": {},
     "output_type": "execute_result"
    }
   ],
   "source": [
    "features_monthly.head()"
   ]
  },
  {
   "cell_type": "code",
   "execution_count": 106,
   "id": "ed5b27bd-2576-4872-a47a-2e016c1d02cf",
   "metadata": {},
   "outputs": [
    {
     "name": "stdout",
     "output_type": "stream",
     "text": [
      "[[-1.59296748  2.13347128 -1.67051796  0.69266137  1.8535728   0.71420461\n",
      "   5.26284478]]\n"
     ]
    }
   ],
   "source": [
    "january_input = pd.DataFrame(\n",
    "    {\n",
    "        'month': [1],  \n",
    "        'year': [2025],\n",
    "        'product_id': [1],\n",
    "        'total_revenue': [3099.00],\n",
    "        'average_price': [149.16], \n",
    "        'stock': [20],\n",
    "        'average_days_to_expire': [891.888889],\n",
    "    }\n",
    ")\n",
    "\n",
    "january_input = scaler_monthly.transform(january_input)\n",
    "print(january_input)"
   ]
  },
  {
   "cell_type": "code",
   "execution_count": 112,
   "id": "0a79f937-868f-4d0c-a3d4-c3b38c639658",
   "metadata": {},
   "outputs": [
    {
     "name": "stdout",
     "output_type": "stream",
     "text": [
      "[28.64908622]\n",
      "29\n",
      "<class 'int'>\n"
     ]
    },
    {
     "name": "stderr",
     "output_type": "stream",
     "text": [
      "/tmp/ipykernel_10787/3468170727.py:3: DeprecationWarning: Conversion of an array with ndim > 0 to a scalar is deprecated, and will error in future. Ensure you extract a single element from your array before performing this operation. (Deprecated NumPy 1.25.)\n",
      "  january_prediction = int(january_prediction.round())\n"
     ]
    }
   ],
   "source": [
    "january_prediction = gb_model.predict(january_input)\n",
    "print(january_prediction)\n",
    "january_prediction = int(january_prediction.round())\n",
    "print(january_prediction)\n",
    "print(type(january_prediction))"
   ]
  },
  {
   "cell_type": "code",
   "execution_count": 151,
   "id": "abe4f7a8-e027-4c73-a4d0-00eee302e8ef",
   "metadata": {},
   "outputs": [
    {
     "name": "stdout",
     "output_type": "stream",
     "text": [
      "[{'id': 1, 'quantity': 61}]\n"
     ]
    },
    {
     "name": "stderr",
     "output_type": "stream",
     "text": [
      "/home/rebooter/anaconda3/lib/python3.12/site-packages/sklearn/base.py:486: UserWarning: X has feature names, but GradientBoostingRegressor was fitted without feature names\n",
      "  warnings.warn(\n",
      "/tmp/ipykernel_10787/2974192523.py:17: DeprecationWarning: Conversion of an array with ndim > 0 to a scalar is deprecated, and will error in future. Ensure you extract a single element from your array before performing this operation. (Deprecated NumPy 1.25.)\n",
      "  february_prediction = int(february_prediction.round())\n"
     ]
    }
   ],
   "source": [
    "february_input = pd.DataFrame(\n",
    "    {\n",
    "        'month': [2],  \n",
    "        'year': [2025],\n",
    "        'product_id': [1],\n",
    "        'total_revenue': [3080.00],\n",
    "        'average_price': [145.16], \n",
    "        'stock': [50-january_prediction],\n",
    "        'average_days_to_expire': [880.888889],\n",
    "    }\n",
    ")\n",
    "\n",
    "product_id_and_prediction = []\n",
    "\n",
    "\n",
    "february_prediction = gb_model.predict(february_input)\n",
    "february_prediction = int(february_prediction.round())\n",
    "\n",
    "\n",
    "for idx, row in february_input.iterrows():\n",
    "    product_data = {\n",
    "        'id': int(row['product_id']),         \n",
    "        'quantity': int(february_prediction*1.2)    \n",
    "    }\n",
    "    \n",
    "    product_id_and_prediction.append(product_data)\n",
    "\n",
    "print(product_id_and_prediction)\n"
   ]
  },
  {
   "cell_type": "markdown",
   "id": "12351788-19e9-4861-b8bf-eab735edbe03",
   "metadata": {},
   "source": [
    "##### Stock a comprar en febrero"
   ]
  },
  {
   "cell_type": "code",
   "execution_count": 153,
   "id": "013ca462-fbe9-4d85-86c2-ce578c731768",
   "metadata": {},
   "outputs": [
    {
     "name": "stdout",
     "output_type": "stream",
     "text": [
      "{1: 'Product 21', 2: 'Product 22', 3: 'Product 23', 4: 'Product 24', 5: 'Product 25', 6: 'Product 26', 7: 'Product 27', 8: 'Product 28', 9: 'Product 29', 10: 'Product 30', 11: 'Product 31', 12: 'Product 32', 13: 'Product 33', 14: 'Product 34', 15: 'Product 35', 16: 'Product 36', 17: 'Product 37', 18: 'Product 38', 19: 'Product 39', 20: 'Product 40', 21: 'Product 41', 22: 'Product 42', 23: 'Product 43', 24: 'Product 44', 25: 'Product 45', 26: 'Product 46', 27: 'Product 47', 28: 'Product 48', 29: 'Product 49', 30: 'Product 50'}\n"
     ]
    }
   ],
   "source": [
    "product_name_and_id = dict(zip(products[\"product_id\"], products[\"Product Name\"]))\n",
    "print(product_name_and_id)"
   ]
  },
  {
   "cell_type": "code",
   "execution_count": 155,
   "id": "6c78276d-68f8-4a72-b656-e20c050e20b8",
   "metadata": {},
   "outputs": [
    {
     "name": "stdout",
     "output_type": "stream",
     "text": [
      "{'Product 21': 61}\n"
     ]
    }
   ],
   "source": [
    "product_diccionario = {}\n",
    "\n",
    "for key, value in product_name_and_id.items():\n",
    "    for product in product_id_and_prediction:\n",
    "        if product['id'] == key:  \n",
    "            product_diccionario[value] = product['quantity']  \n",
    "\n",
    "print(product_diccionario)"
   ]
  },
  {
   "cell_type": "code",
   "execution_count": 157,
   "id": "d5580b1c-90c0-4acc-a90d-46da8fa3fbba",
   "metadata": {},
   "outputs": [
    {
     "name": "stdout",
     "output_type": "stream",
     "text": [
      "{\n",
      "    \"Product 21\": 61\n",
      "}\n"
     ]
    }
   ],
   "source": [
    "import json\n",
    "\n",
    "product_json = json.dumps(product_diccionario, indent=4, ensure_ascii=False)\n",
    "\n",
    "print(product_json)"
   ]
  },
  {
   "cell_type": "markdown",
   "id": "0e3b0199-1023-4c0e-8a16-323897a9ccff",
   "metadata": {},
   "source": [
    "#### Prophet --- Mensual restocking"
   ]
  },
  {
   "cell_type": "code",
   "execution_count": 163,
   "id": "00987e70-c3e4-41ce-87d2-0ef4d867ac0a",
   "metadata": {},
   "outputs": [
    {
     "ename": "ModuleNotFoundError",
     "evalue": "No module named 'prophet'",
     "output_type": "error",
     "traceback": [
      "\u001b[0;31m---------------------------------------------------------------------------\u001b[0m",
      "\u001b[0;31mModuleNotFoundError\u001b[0m                       Traceback (most recent call last)",
      "Cell \u001b[0;32mIn[163], line 3\u001b[0m\n\u001b[1;32m      1\u001b[0m \u001b[38;5;28;01mimport\u001b[39;00m \u001b[38;5;21;01mpandas\u001b[39;00m \u001b[38;5;28;01mas\u001b[39;00m \u001b[38;5;21;01mpd\u001b[39;00m\n\u001b[1;32m      2\u001b[0m \u001b[38;5;28;01mimport\u001b[39;00m \u001b[38;5;21;01mnumpy\u001b[39;00m \u001b[38;5;28;01mas\u001b[39;00m \u001b[38;5;21;01mnp\u001b[39;00m\n\u001b[0;32m----> 3\u001b[0m \u001b[38;5;28;01mfrom\u001b[39;00m \u001b[38;5;21;01mprophet\u001b[39;00m \u001b[38;5;28;01mimport\u001b[39;00m Prophet\n\u001b[1;32m      4\u001b[0m \u001b[38;5;28;01mfrom\u001b[39;00m \u001b[38;5;21;01msklearn\u001b[39;00m\u001b[38;5;21;01m.\u001b[39;00m\u001b[38;5;21;01mmetrics\u001b[39;00m \u001b[38;5;28;01mimport\u001b[39;00m mean_squared_error, r2_score\n\u001b[1;32m      5\u001b[0m \u001b[38;5;28;01mfrom\u001b[39;00m \u001b[38;5;21;01msklearn\u001b[39;00m\u001b[38;5;21;01m.\u001b[39;00m\u001b[38;5;21;01mmodel_selection\u001b[39;00m \u001b[38;5;28;01mimport\u001b[39;00m train_test_split\n",
      "\u001b[0;31mModuleNotFoundError\u001b[0m: No module named 'prophet'"
     ]
    }
   ],
   "source": [
    "import pandas as pd\n",
    "import numpy as np\n",
    "from prophet import Prophet\n",
    "from sklearn.metrics import mean_squared_error, r2_score\n",
    "from sklearn.model_selection import train_test_split\n",
    "from datetime import datetime\n",
    "\n",
    "# Primero preparamos los datos en el formato que requiere Prophet\n",
    "def prepare_prophet_data(monthly_data):\n",
    "    # Prophet requiere columnas 'ds' (fecha) y 'y' (target)\n",
    "    prophet_data = monthly_data.copy()\n",
    "    \n",
    "    # Crear fechas combinando mes y año\n",
    "    prophet_data['ds'] = prophet_data.apply(\n",
    "        lambda x: datetime(int(x['year']), int(x['month']), 1), axis=1\n",
    "    )\n",
    "    \n",
    "    # Renombrar quantity como 'y'\n",
    "    prophet_data['y'] = prophet_data['quantity']\n",
    "    \n",
    "    # Agregar las características adicionales como regressors\n",
    "    prophet_data['total_revenue_scaled'] = (prophet_data['total_revenue'] - \n",
    "                                          prophet_data['total_revenue'].mean()) / prophet_data['total_revenue'].std()\n",
    "    prophet_data['average_price_scaled'] = (prophet_data['average_price'] - \n",
    "                                          prophet_data['average_price'].mean()) / prophet_data['average_price'].std()\n",
    "    prophet_data['stock_scaled'] = (prophet_data['stock'] - \n",
    "                                   prophet_data['stock'].mean()) / prophet_data['stock'].std()\n",
    "    prophet_data['days_to_expire_scaled'] = (prophet_data['average_days_to_expire'] - \n",
    "                                            prophet_data['average_days_to_expire'].mean()) / prophet_data['average_days_to_expire'].std()\n",
    "    \n",
    "    return prophet_data\n",
    "\n",
    "def train_evaluate_prophet(data, product_id=None):\n",
    "    \"\"\"\n",
    "    Entrena y evalúa un modelo Prophet para un producto específico o todos los productos\n",
    "    \"\"\"\n",
    "    if product_id is not None:\n",
    "        data = data[data['product_id'] == product_id]\n",
    "    \n",
    "    # Preparar datos para Prophet\n",
    "    prophet_data = prepare_prophet_data(data)\n",
    "    \n",
    "    # División train-test preservando el orden temporal\n",
    "    train_size = int(len(prophet_data) * 0.8)\n",
    "    train_data = prophet_data.iloc[:train_size]\n",
    "    test_data = prophet_data.iloc[train_size:]\n",
    "    \n",
    "    # Inicializar y configurar el modelo Prophet\n",
    "    model = Prophet(\n",
    "        yearly_seasonality=True,\n",
    "        weekly_seasonality=False,\n",
    "        daily_seasonality=False,\n",
    "        seasonality_mode='multiplicative'\n",
    "    )\n",
    "    \n",
    "    # Agregar regressors\n",
    "    model.add_regressor('total_revenue_scaled')\n",
    "    model.add_regressor('average_price_scaled')\n",
    "    model.add_regressor('stock_scaled')\n",
    "    model.add_regressor('days_to_expire_scaled')\n",
    "    \n",
    "    # Entrenar el modelo\n",
    "    model.fit(train_data)\n",
    "    \n",
    "    # Preparar datos futuros para predicción\n",
    "    future = model.make_future_dataframe(periods=len(test_data), freq='M')\n",
    "    future = future.merge(test_data[['ds', 'total_revenue_scaled', 'average_price_scaled', \n",
    "                                   'stock_scaled', 'days_to_expire_scaled']], \n",
    "                         on='ds', how='left')\n",
    "    \n",
    "    # Realizar predicciones\n",
    "    forecast = model.predict(future)\n",
    "    \n",
    "    # Evaluar el modelo\n",
    "    y_true = test_data['y'].values\n",
    "    y_pred = forecast.tail(len(test_data))['yhat'].values\n",
    "    \n",
    "    results = {\n",
    "        'Prophet': {\n",
    "            'MSE': mean_squared_error(y_true, y_pred),\n",
    "            'R2': r2_score(y_true, y_pred)\n",
    "        }\n",
    "    }\n",
    "    \n",
    "    return model, forecast, results\n",
    "\n",
    "# Ejemplo de uso\n",
    "def run_prophet_analysis(monthly_data):\n",
    "    # Análisis global\n",
    "    print(\"Análisis global de todos los productos:\")\n",
    "    model, forecast, results = train_evaluate_prophet(monthly_data)\n",
    "    print(f\"Prophet Global: MSE={results['Prophet']['MSE']}, R2={results['Prophet']['R2']}\")\n",
    "    \n",
    "    # Análisis por producto\n",
    "    unique_products = monthly_data['product_id'].unique()\n",
    "    product_results = {}\n",
    "    \n",
    "    for product in unique_products:\n",
    "        print(f\"\\nAnálisis para producto {product}:\")\n",
    "        _, _, prod_results = train_evaluate_prophet(monthly_data, product)\n",
    "        product_results[product] = prod_results['Prophet']\n",
    "        print(f\"Prophet Producto {product}: MSE={prod_results['Prophet']['MSE']}, R2={prod_results['Prophet']['R2']}\")\n",
    "    \n",
    "    return model, forecast, results, product_results\n",
    "\n",
    "# Para ejecutar el análisis:\n",
    "# model, forecast, results, product_results = run_prophet_analysis(monthly_data)"
   ]
  },
  {
   "cell_type": "code",
   "execution_count": null,
   "id": "185cbf8f-a65b-4531-b359-fdcb64d1960e",
   "metadata": {},
   "outputs": [],
   "source": []
  }
 ],
 "metadata": {
  "kernelspec": {
   "display_name": "Python 3 (ipykernel)",
   "language": "python",
   "name": "python3"
  },
  "language_info": {
   "codemirror_mode": {
    "name": "ipython",
    "version": 3
   },
   "file_extension": ".py",
   "mimetype": "text/x-python",
   "name": "python",
   "nbconvert_exporter": "python",
   "pygments_lexer": "ipython3",
   "version": "3.11.3"
  }
 },
 "nbformat": 4,
 "nbformat_minor": 5
}
